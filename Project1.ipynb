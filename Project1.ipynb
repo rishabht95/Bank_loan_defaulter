{
 "cells": [
  {
   "cell_type": "code",
   "execution_count": 1,
   "metadata": {},
   "outputs": [],
   "source": [
    "#import libraries\n",
    "import os\n",
    "import pandas as pd\n",
    "import numpy as np\n",
    "  \n",
    "\n",
    "import matplotlib.pyplot as plt\n",
    "from scipy.stats import chi2_contingency\n",
    "import seaborn as sns \n",
    "\n",
    "from random import randrange,uniform\n"
   ]
  },
  {
   "cell_type": "code",
   "execution_count": 71,
   "metadata": {},
   "outputs": [],
   "source": [
    "#set working directory\n",
    "os.chdir(\"H:\\Data Science\\Project1\")"
   ]
  },
  {
   "cell_type": "code",
   "execution_count": 3,
   "metadata": {},
   "outputs": [
    {
     "data": {
      "text/plain": [
       "'H:\\\\Data Science\\\\Project1'"
      ]
     },
     "execution_count": 3,
     "metadata": {},
     "output_type": "execute_result"
    }
   ],
   "source": [
    "os.getcwd()"
   ]
  },
  {
   "cell_type": "code",
   "execution_count": 73,
   "metadata": {},
   "outputs": [],
   "source": [
    "#load the data\n",
    "loan_data=pd.read_csv(\"H:/Data Science/Project1/bank-loan.csv\")"
   ]
  },
  {
   "cell_type": "code",
   "execution_count": null,
   "metadata": {},
   "outputs": [],
   "source": []
  },
  {
   "cell_type": "code",
   "execution_count": 74,
   "metadata": {},
   "outputs": [
    {
     "data": {
      "text/html": [
       "<div>\n",
       "<style scoped>\n",
       "    .dataframe tbody tr th:only-of-type {\n",
       "        vertical-align: middle;\n",
       "    }\n",
       "\n",
       "    .dataframe tbody tr th {\n",
       "        vertical-align: top;\n",
       "    }\n",
       "\n",
       "    .dataframe thead th {\n",
       "        text-align: right;\n",
       "    }\n",
       "</style>\n",
       "<table border=\"1\" class=\"dataframe\">\n",
       "  <thead>\n",
       "    <tr style=\"text-align: right;\">\n",
       "      <th></th>\n",
       "      <th>age</th>\n",
       "      <th>ed</th>\n",
       "      <th>employ</th>\n",
       "      <th>address</th>\n",
       "      <th>income</th>\n",
       "      <th>debtinc</th>\n",
       "      <th>creddebt</th>\n",
       "      <th>othdebt</th>\n",
       "      <th>default</th>\n",
       "    </tr>\n",
       "  </thead>\n",
       "  <tbody>\n",
       "    <tr>\n",
       "      <td>0</td>\n",
       "      <td>41</td>\n",
       "      <td>3</td>\n",
       "      <td>17</td>\n",
       "      <td>12</td>\n",
       "      <td>176</td>\n",
       "      <td>9.3</td>\n",
       "      <td>11.359392</td>\n",
       "      <td>5.008608</td>\n",
       "      <td>1.0</td>\n",
       "    </tr>\n",
       "    <tr>\n",
       "      <td>1</td>\n",
       "      <td>27</td>\n",
       "      <td>1</td>\n",
       "      <td>10</td>\n",
       "      <td>6</td>\n",
       "      <td>31</td>\n",
       "      <td>17.3</td>\n",
       "      <td>1.362202</td>\n",
       "      <td>4.000798</td>\n",
       "      <td>0.0</td>\n",
       "    </tr>\n",
       "    <tr>\n",
       "      <td>2</td>\n",
       "      <td>40</td>\n",
       "      <td>1</td>\n",
       "      <td>15</td>\n",
       "      <td>14</td>\n",
       "      <td>55</td>\n",
       "      <td>5.5</td>\n",
       "      <td>0.856075</td>\n",
       "      <td>2.168925</td>\n",
       "      <td>0.0</td>\n",
       "    </tr>\n",
       "    <tr>\n",
       "      <td>3</td>\n",
       "      <td>41</td>\n",
       "      <td>1</td>\n",
       "      <td>15</td>\n",
       "      <td>14</td>\n",
       "      <td>120</td>\n",
       "      <td>2.9</td>\n",
       "      <td>2.658720</td>\n",
       "      <td>0.821280</td>\n",
       "      <td>0.0</td>\n",
       "    </tr>\n",
       "    <tr>\n",
       "      <td>4</td>\n",
       "      <td>24</td>\n",
       "      <td>2</td>\n",
       "      <td>2</td>\n",
       "      <td>0</td>\n",
       "      <td>28</td>\n",
       "      <td>17.3</td>\n",
       "      <td>1.787436</td>\n",
       "      <td>3.056564</td>\n",
       "      <td>1.0</td>\n",
       "    </tr>\n",
       "    <tr>\n",
       "      <td>...</td>\n",
       "      <td>...</td>\n",
       "      <td>...</td>\n",
       "      <td>...</td>\n",
       "      <td>...</td>\n",
       "      <td>...</td>\n",
       "      <td>...</td>\n",
       "      <td>...</td>\n",
       "      <td>...</td>\n",
       "      <td>...</td>\n",
       "    </tr>\n",
       "    <tr>\n",
       "      <td>845</td>\n",
       "      <td>34</td>\n",
       "      <td>1</td>\n",
       "      <td>12</td>\n",
       "      <td>15</td>\n",
       "      <td>32</td>\n",
       "      <td>2.7</td>\n",
       "      <td>0.239328</td>\n",
       "      <td>0.624672</td>\n",
       "      <td>NaN</td>\n",
       "    </tr>\n",
       "    <tr>\n",
       "      <td>846</td>\n",
       "      <td>32</td>\n",
       "      <td>2</td>\n",
       "      <td>12</td>\n",
       "      <td>11</td>\n",
       "      <td>116</td>\n",
       "      <td>5.7</td>\n",
       "      <td>4.026708</td>\n",
       "      <td>2.585292</td>\n",
       "      <td>NaN</td>\n",
       "    </tr>\n",
       "    <tr>\n",
       "      <td>847</td>\n",
       "      <td>48</td>\n",
       "      <td>1</td>\n",
       "      <td>13</td>\n",
       "      <td>11</td>\n",
       "      <td>38</td>\n",
       "      <td>10.8</td>\n",
       "      <td>0.722304</td>\n",
       "      <td>3.381696</td>\n",
       "      <td>NaN</td>\n",
       "    </tr>\n",
       "    <tr>\n",
       "      <td>848</td>\n",
       "      <td>35</td>\n",
       "      <td>2</td>\n",
       "      <td>1</td>\n",
       "      <td>11</td>\n",
       "      <td>24</td>\n",
       "      <td>7.8</td>\n",
       "      <td>0.417456</td>\n",
       "      <td>1.454544</td>\n",
       "      <td>NaN</td>\n",
       "    </tr>\n",
       "    <tr>\n",
       "      <td>849</td>\n",
       "      <td>37</td>\n",
       "      <td>1</td>\n",
       "      <td>20</td>\n",
       "      <td>13</td>\n",
       "      <td>41</td>\n",
       "      <td>12.9</td>\n",
       "      <td>0.899130</td>\n",
       "      <td>4.389870</td>\n",
       "      <td>NaN</td>\n",
       "    </tr>\n",
       "  </tbody>\n",
       "</table>\n",
       "<p>850 rows × 9 columns</p>\n",
       "</div>"
      ],
      "text/plain": [
       "     age  ed  employ  address  income  debtinc   creddebt   othdebt  default\n",
       "0     41   3      17       12     176      9.3  11.359392  5.008608      1.0\n",
       "1     27   1      10        6      31     17.3   1.362202  4.000798      0.0\n",
       "2     40   1      15       14      55      5.5   0.856075  2.168925      0.0\n",
       "3     41   1      15       14     120      2.9   2.658720  0.821280      0.0\n",
       "4     24   2       2        0      28     17.3   1.787436  3.056564      1.0\n",
       "..   ...  ..     ...      ...     ...      ...        ...       ...      ...\n",
       "845   34   1      12       15      32      2.7   0.239328  0.624672      NaN\n",
       "846   32   2      12       11     116      5.7   4.026708  2.585292      NaN\n",
       "847   48   1      13       11      38     10.8   0.722304  3.381696      NaN\n",
       "848   35   2       1       11      24      7.8   0.417456  1.454544      NaN\n",
       "849   37   1      20       13      41     12.9   0.899130  4.389870      NaN\n",
       "\n",
       "[850 rows x 9 columns]"
      ]
     },
     "execution_count": 74,
     "metadata": {},
     "output_type": "execute_result"
    }
   ],
   "source": [
    "loan_data"
   ]
  },
  {
   "cell_type": "code",
   "execution_count": null,
   "metadata": {},
   "outputs": [],
   "source": []
  },
  {
   "cell_type": "code",
   "execution_count": null,
   "metadata": {},
   "outputs": [],
   "source": []
  },
  {
   "cell_type": "code",
   "execution_count": null,
   "metadata": {},
   "outputs": [],
   "source": []
  },
  {
   "cell_type": "code",
   "execution_count": null,
   "metadata": {},
   "outputs": [],
   "source": []
  },
  {
   "cell_type": "code",
   "execution_count": null,
   "metadata": {},
   "outputs": [],
   "source": []
  },
  {
   "cell_type": "code",
   "execution_count": 75,
   "metadata": {},
   "outputs": [],
   "source": [
    "#Exploratory data analysis\n",
    "#thera are 2 categorical data converting them from numeric to factor type\n",
    "loan_data['ed'] = loan_data['ed'].astype('category')\n",
    "loan_data['default'] = loan_data['default'].astype('category')\n"
   ]
  },
  {
   "cell_type": "code",
   "execution_count": null,
   "metadata": {},
   "outputs": [],
   "source": []
  },
  {
   "cell_type": "code",
   "execution_count": 48,
   "metadata": {},
   "outputs": [],
   "source": []
  },
  {
   "cell_type": "code",
   "execution_count": 76,
   "metadata": {},
   "outputs": [],
   "source": [
    "#####Missing value analysis\n",
    "missing_val=pd.DataFrame(loan_data.isnull().sum())"
   ]
  },
  {
   "cell_type": "code",
   "execution_count": null,
   "metadata": {},
   "outputs": [],
   "source": []
  },
  {
   "cell_type": "code",
   "execution_count": 77,
   "metadata": {},
   "outputs": [],
   "source": [
    "###since there are missing value in our target variable we cannot fill it we have to drop certain rows for which value is missing\n",
    "loan_data=loan_data.dropna()"
   ]
  },
  {
   "cell_type": "code",
   "execution_count": null,
   "metadata": {},
   "outputs": [],
   "source": []
  },
  {
   "cell_type": "code",
   "execution_count": 78,
   "metadata": {},
   "outputs": [
    {
     "data": {
      "text/html": [
       "<div>\n",
       "<style scoped>\n",
       "    .dataframe tbody tr th:only-of-type {\n",
       "        vertical-align: middle;\n",
       "    }\n",
       "\n",
       "    .dataframe tbody tr th {\n",
       "        vertical-align: top;\n",
       "    }\n",
       "\n",
       "    .dataframe thead th {\n",
       "        text-align: right;\n",
       "    }\n",
       "</style>\n",
       "<table border=\"1\" class=\"dataframe\">\n",
       "  <thead>\n",
       "    <tr style=\"text-align: right;\">\n",
       "      <th></th>\n",
       "      <th>age</th>\n",
       "      <th>ed</th>\n",
       "      <th>employ</th>\n",
       "      <th>address</th>\n",
       "      <th>income</th>\n",
       "      <th>debtinc</th>\n",
       "      <th>creddebt</th>\n",
       "      <th>othdebt</th>\n",
       "      <th>default</th>\n",
       "    </tr>\n",
       "  </thead>\n",
       "  <tbody>\n",
       "    <tr>\n",
       "      <td>0</td>\n",
       "      <td>41</td>\n",
       "      <td>3</td>\n",
       "      <td>17</td>\n",
       "      <td>12</td>\n",
       "      <td>176</td>\n",
       "      <td>9.3</td>\n",
       "      <td>11.359392</td>\n",
       "      <td>5.008608</td>\n",
       "      <td>1.0</td>\n",
       "    </tr>\n",
       "    <tr>\n",
       "      <td>1</td>\n",
       "      <td>27</td>\n",
       "      <td>1</td>\n",
       "      <td>10</td>\n",
       "      <td>6</td>\n",
       "      <td>31</td>\n",
       "      <td>17.3</td>\n",
       "      <td>1.362202</td>\n",
       "      <td>4.000798</td>\n",
       "      <td>0.0</td>\n",
       "    </tr>\n",
       "    <tr>\n",
       "      <td>2</td>\n",
       "      <td>40</td>\n",
       "      <td>1</td>\n",
       "      <td>15</td>\n",
       "      <td>14</td>\n",
       "      <td>55</td>\n",
       "      <td>5.5</td>\n",
       "      <td>0.856075</td>\n",
       "      <td>2.168925</td>\n",
       "      <td>0.0</td>\n",
       "    </tr>\n",
       "    <tr>\n",
       "      <td>3</td>\n",
       "      <td>41</td>\n",
       "      <td>1</td>\n",
       "      <td>15</td>\n",
       "      <td>14</td>\n",
       "      <td>120</td>\n",
       "      <td>2.9</td>\n",
       "      <td>2.658720</td>\n",
       "      <td>0.821280</td>\n",
       "      <td>0.0</td>\n",
       "    </tr>\n",
       "    <tr>\n",
       "      <td>4</td>\n",
       "      <td>24</td>\n",
       "      <td>2</td>\n",
       "      <td>2</td>\n",
       "      <td>0</td>\n",
       "      <td>28</td>\n",
       "      <td>17.3</td>\n",
       "      <td>1.787436</td>\n",
       "      <td>3.056564</td>\n",
       "      <td>1.0</td>\n",
       "    </tr>\n",
       "    <tr>\n",
       "      <td>...</td>\n",
       "      <td>...</td>\n",
       "      <td>...</td>\n",
       "      <td>...</td>\n",
       "      <td>...</td>\n",
       "      <td>...</td>\n",
       "      <td>...</td>\n",
       "      <td>...</td>\n",
       "      <td>...</td>\n",
       "      <td>...</td>\n",
       "    </tr>\n",
       "    <tr>\n",
       "      <td>695</td>\n",
       "      <td>36</td>\n",
       "      <td>2</td>\n",
       "      <td>6</td>\n",
       "      <td>15</td>\n",
       "      <td>27</td>\n",
       "      <td>4.6</td>\n",
       "      <td>0.262062</td>\n",
       "      <td>0.979938</td>\n",
       "      <td>1.0</td>\n",
       "    </tr>\n",
       "    <tr>\n",
       "      <td>696</td>\n",
       "      <td>29</td>\n",
       "      <td>2</td>\n",
       "      <td>6</td>\n",
       "      <td>4</td>\n",
       "      <td>21</td>\n",
       "      <td>11.5</td>\n",
       "      <td>0.369495</td>\n",
       "      <td>2.045505</td>\n",
       "      <td>0.0</td>\n",
       "    </tr>\n",
       "    <tr>\n",
       "      <td>697</td>\n",
       "      <td>33</td>\n",
       "      <td>1</td>\n",
       "      <td>15</td>\n",
       "      <td>3</td>\n",
       "      <td>32</td>\n",
       "      <td>7.6</td>\n",
       "      <td>0.491264</td>\n",
       "      <td>1.940736</td>\n",
       "      <td>0.0</td>\n",
       "    </tr>\n",
       "    <tr>\n",
       "      <td>698</td>\n",
       "      <td>45</td>\n",
       "      <td>1</td>\n",
       "      <td>19</td>\n",
       "      <td>22</td>\n",
       "      <td>77</td>\n",
       "      <td>8.4</td>\n",
       "      <td>2.302608</td>\n",
       "      <td>4.165392</td>\n",
       "      <td>0.0</td>\n",
       "    </tr>\n",
       "    <tr>\n",
       "      <td>699</td>\n",
       "      <td>37</td>\n",
       "      <td>1</td>\n",
       "      <td>12</td>\n",
       "      <td>14</td>\n",
       "      <td>44</td>\n",
       "      <td>14.7</td>\n",
       "      <td>2.994684</td>\n",
       "      <td>3.473316</td>\n",
       "      <td>0.0</td>\n",
       "    </tr>\n",
       "  </tbody>\n",
       "</table>\n",
       "<p>700 rows × 9 columns</p>\n",
       "</div>"
      ],
      "text/plain": [
       "     age ed  employ  address  income  debtinc   creddebt   othdebt default\n",
       "0     41  3      17       12     176      9.3  11.359392  5.008608     1.0\n",
       "1     27  1      10        6      31     17.3   1.362202  4.000798     0.0\n",
       "2     40  1      15       14      55      5.5   0.856075  2.168925     0.0\n",
       "3     41  1      15       14     120      2.9   2.658720  0.821280     0.0\n",
       "4     24  2       2        0      28     17.3   1.787436  3.056564     1.0\n",
       "..   ... ..     ...      ...     ...      ...        ...       ...     ...\n",
       "695   36  2       6       15      27      4.6   0.262062  0.979938     1.0\n",
       "696   29  2       6        4      21     11.5   0.369495  2.045505     0.0\n",
       "697   33  1      15        3      32      7.6   0.491264  1.940736     0.0\n",
       "698   45  1      19       22      77      8.4   2.302608  4.165392     0.0\n",
       "699   37  1      12       14      44     14.7   2.994684  3.473316     0.0\n",
       "\n",
       "[700 rows x 9 columns]"
      ]
     },
     "execution_count": 78,
     "metadata": {},
     "output_type": "execute_result"
    }
   ],
   "source": [
    "loan_data"
   ]
  },
  {
   "cell_type": "code",
   "execution_count": null,
   "metadata": {},
   "outputs": [],
   "source": []
  },
  {
   "cell_type": "code",
   "execution_count": null,
   "metadata": {},
   "outputs": [],
   "source": [
    "###########################OUTLIER ANALYSIS\n"
   ]
  },
  {
   "cell_type": "code",
   "execution_count": 79,
   "metadata": {},
   "outputs": [],
   "source": [
    "###storing continuous variable in cnames\n",
    "cnames=[\"age\",\"employ\",\"address\",\"income\",\"debtinc\",\"creddebt\",\"othdebt\"]"
   ]
  },
  {
   "cell_type": "code",
   "execution_count": null,
   "metadata": {},
   "outputs": [],
   "source": []
  },
  {
   "cell_type": "code",
   "execution_count": 80,
   "metadata": {},
   "outputs": [
    {
     "data": {
      "text/plain": [
       "{'whiskers': [<matplotlib.lines.Line2D at 0x1890c5f2348>,\n",
       "  <matplotlib.lines.Line2D at 0x1890c5ebd48>],\n",
       " 'caps': [<matplotlib.lines.Line2D at 0x1890c5f2fc8>,\n",
       "  <matplotlib.lines.Line2D at 0x1890c5f2b48>],\n",
       " 'boxes': [<matplotlib.lines.Line2D at 0x1890c5ebb08>],\n",
       " 'medians': [<matplotlib.lines.Line2D at 0x1890c5f7c48>],\n",
       " 'fliers': [<matplotlib.lines.Line2D at 0x1890c5f7d48>],\n",
       " 'means': []}"
      ]
     },
     "execution_count": 80,
     "metadata": {},
     "output_type": "execute_result"
    },
    {
     "data": {
      "image/png": "[encoded data removed]",
      "text/plain": [
       "<Figure size 432x288 with 1 Axes>"
      ]
     },
     "metadata": {
      "needs_background": "light"
     },
     "output_type": "display_data"
    }
   ],
   "source": [
    "#plot boxplot to visualise outliers\n",
    "%matplotlib inline\n",
    "plt.boxplot(loan_data['income'])"
   ]
  },
  {
   "cell_type": "code",
   "execution_count": null,
   "metadata": {},
   "outputs": [],
   "source": []
  },
  {
   "cell_type": "code",
   "execution_count": 81,
   "metadata": {},
   "outputs": [
    {
     "name": "stdout",
     "output_type": "stream",
     "text": [
      "age\n",
      "employ\n",
      "address\n",
      "income\n",
      "debtinc\n",
      "creddebt\n",
      "othdebt\n"
     ]
    }
   ],
   "source": [
    "#detect and delete outliers in data\n",
    "for i in cnames:\n",
    "    print(i)\n",
    "    q75,q25=np.percentile(loan_data.loc[:,i],[75,25])\n",
    "    iqr=q75-q25\n",
    "    min=q25-(iqr*1.5)\n",
    "    max=q75+(iqr*1.5)\n",
    "    loan_data=loan_data.drop(loan_data[loan_data.loc[:,i]<min].index)\n",
    "    loan_data=loan_data.drop(loan_data[loan_data.loc[:,i]>max].index)\n"
   ]
  },
  {
   "cell_type": "code",
   "execution_count": null,
   "metadata": {},
   "outputs": [],
   "source": []
  },
  {
   "cell_type": "code",
   "execution_count": null,
   "metadata": {},
   "outputs": [],
   "source": []
  },
  {
   "cell_type": "code",
   "execution_count": 82,
   "metadata": {},
   "outputs": [
    {
     "data": {
      "text/html": [
       "<div>\n",
       "<style scoped>\n",
       "    .dataframe tbody tr th:only-of-type {\n",
       "        vertical-align: middle;\n",
       "    }\n",
       "\n",
       "    .dataframe tbody tr th {\n",
       "        vertical-align: top;\n",
       "    }\n",
       "\n",
       "    .dataframe thead th {\n",
       "        text-align: right;\n",
       "    }\n",
       "</style>\n",
       "<table border=\"1\" class=\"dataframe\">\n",
       "  <thead>\n",
       "    <tr style=\"text-align: right;\">\n",
       "      <th></th>\n",
       "      <th>age</th>\n",
       "      <th>ed</th>\n",
       "      <th>employ</th>\n",
       "      <th>address</th>\n",
       "      <th>income</th>\n",
       "      <th>debtinc</th>\n",
       "      <th>creddebt</th>\n",
       "      <th>othdebt</th>\n",
       "      <th>default</th>\n",
       "    </tr>\n",
       "  </thead>\n",
       "  <tbody>\n",
       "    <tr>\n",
       "      <td>1</td>\n",
       "      <td>27</td>\n",
       "      <td>1</td>\n",
       "      <td>10</td>\n",
       "      <td>6</td>\n",
       "      <td>31</td>\n",
       "      <td>17.3</td>\n",
       "      <td>1.362202</td>\n",
       "      <td>4.000798</td>\n",
       "      <td>0.0</td>\n",
       "    </tr>\n",
       "    <tr>\n",
       "      <td>2</td>\n",
       "      <td>40</td>\n",
       "      <td>1</td>\n",
       "      <td>15</td>\n",
       "      <td>14</td>\n",
       "      <td>55</td>\n",
       "      <td>5.5</td>\n",
       "      <td>0.856075</td>\n",
       "      <td>2.168925</td>\n",
       "      <td>0.0</td>\n",
       "    </tr>\n",
       "    <tr>\n",
       "      <td>4</td>\n",
       "      <td>24</td>\n",
       "      <td>2</td>\n",
       "      <td>2</td>\n",
       "      <td>0</td>\n",
       "      <td>28</td>\n",
       "      <td>17.3</td>\n",
       "      <td>1.787436</td>\n",
       "      <td>3.056564</td>\n",
       "      <td>1.0</td>\n",
       "    </tr>\n",
       "    <tr>\n",
       "      <td>5</td>\n",
       "      <td>41</td>\n",
       "      <td>2</td>\n",
       "      <td>5</td>\n",
       "      <td>5</td>\n",
       "      <td>25</td>\n",
       "      <td>10.2</td>\n",
       "      <td>0.392700</td>\n",
       "      <td>2.157300</td>\n",
       "      <td>0.0</td>\n",
       "    </tr>\n",
       "    <tr>\n",
       "      <td>7</td>\n",
       "      <td>43</td>\n",
       "      <td>1</td>\n",
       "      <td>12</td>\n",
       "      <td>11</td>\n",
       "      <td>38</td>\n",
       "      <td>3.6</td>\n",
       "      <td>0.128592</td>\n",
       "      <td>1.239408</td>\n",
       "      <td>0.0</td>\n",
       "    </tr>\n",
       "    <tr>\n",
       "      <td>...</td>\n",
       "      <td>...</td>\n",
       "      <td>...</td>\n",
       "      <td>...</td>\n",
       "      <td>...</td>\n",
       "      <td>...</td>\n",
       "      <td>...</td>\n",
       "      <td>...</td>\n",
       "      <td>...</td>\n",
       "      <td>...</td>\n",
       "    </tr>\n",
       "    <tr>\n",
       "      <td>695</td>\n",
       "      <td>36</td>\n",
       "      <td>2</td>\n",
       "      <td>6</td>\n",
       "      <td>15</td>\n",
       "      <td>27</td>\n",
       "      <td>4.6</td>\n",
       "      <td>0.262062</td>\n",
       "      <td>0.979938</td>\n",
       "      <td>1.0</td>\n",
       "    </tr>\n",
       "    <tr>\n",
       "      <td>696</td>\n",
       "      <td>29</td>\n",
       "      <td>2</td>\n",
       "      <td>6</td>\n",
       "      <td>4</td>\n",
       "      <td>21</td>\n",
       "      <td>11.5</td>\n",
       "      <td>0.369495</td>\n",
       "      <td>2.045505</td>\n",
       "      <td>0.0</td>\n",
       "    </tr>\n",
       "    <tr>\n",
       "      <td>697</td>\n",
       "      <td>33</td>\n",
       "      <td>1</td>\n",
       "      <td>15</td>\n",
       "      <td>3</td>\n",
       "      <td>32</td>\n",
       "      <td>7.6</td>\n",
       "      <td>0.491264</td>\n",
       "      <td>1.940736</td>\n",
       "      <td>0.0</td>\n",
       "    </tr>\n",
       "    <tr>\n",
       "      <td>698</td>\n",
       "      <td>45</td>\n",
       "      <td>1</td>\n",
       "      <td>19</td>\n",
       "      <td>22</td>\n",
       "      <td>77</td>\n",
       "      <td>8.4</td>\n",
       "      <td>2.302608</td>\n",
       "      <td>4.165392</td>\n",
       "      <td>0.0</td>\n",
       "    </tr>\n",
       "    <tr>\n",
       "      <td>699</td>\n",
       "      <td>37</td>\n",
       "      <td>1</td>\n",
       "      <td>12</td>\n",
       "      <td>14</td>\n",
       "      <td>44</td>\n",
       "      <td>14.7</td>\n",
       "      <td>2.994684</td>\n",
       "      <td>3.473316</td>\n",
       "      <td>0.0</td>\n",
       "    </tr>\n",
       "  </tbody>\n",
       "</table>\n",
       "<p>545 rows × 9 columns</p>\n",
       "</div>"
      ],
      "text/plain": [
       "     age ed  employ  address  income  debtinc  creddebt   othdebt default\n",
       "1     27  1      10        6      31     17.3  1.362202  4.000798     0.0\n",
       "2     40  1      15       14      55      5.5  0.856075  2.168925     0.0\n",
       "4     24  2       2        0      28     17.3  1.787436  3.056564     1.0\n",
       "5     41  2       5        5      25     10.2  0.392700  2.157300     0.0\n",
       "7     43  1      12       11      38      3.6  0.128592  1.239408     0.0\n",
       "..   ... ..     ...      ...     ...      ...       ...       ...     ...\n",
       "695   36  2       6       15      27      4.6  0.262062  0.979938     1.0\n",
       "696   29  2       6        4      21     11.5  0.369495  2.045505     0.0\n",
       "697   33  1      15        3      32      7.6  0.491264  1.940736     0.0\n",
       "698   45  1      19       22      77      8.4  2.302608  4.165392     0.0\n",
       "699   37  1      12       14      44     14.7  2.994684  3.473316     0.0\n",
       "\n",
       "[545 rows x 9 columns]"
      ]
     },
     "execution_count": 82,
     "metadata": {},
     "output_type": "execute_result"
    }
   ],
   "source": [
    "loan_data"
   ]
  },
  {
   "cell_type": "code",
   "execution_count": null,
   "metadata": {},
   "outputs": [],
   "source": []
  },
  {
   "cell_type": "code",
   "execution_count": null,
   "metadata": {},
   "outputs": [],
   "source": []
  },
  {
   "cell_type": "code",
   "execution_count": null,
   "metadata": {},
   "outputs": [],
   "source": []
  },
  {
   "cell_type": "code",
   "execution_count": null,
   "metadata": {},
   "outputs": [],
   "source": []
  },
  {
   "cell_type": "code",
   "execution_count": null,
   "metadata": {},
   "outputs": [],
   "source": []
  },
  {
   "cell_type": "code",
   "execution_count": 56,
   "metadata": {},
   "outputs": [],
   "source": [
    "#######Fature selection\n",
    "#correlation analysis\n",
    "#correlation plot\n",
    "df_corr=loan_data.loc[:,cnames]"
   ]
  },
  {
   "cell_type": "code",
   "execution_count": null,
   "metadata": {},
   "outputs": [],
   "source": []
  },
  {
   "cell_type": "code",
   "execution_count": 57,
   "metadata": {},
   "outputs": [
    {
     "data": {
      "text/plain": [
       "(574, 7)"
      ]
     },
     "execution_count": 57,
     "metadata": {},
     "output_type": "execute_result"
    }
   ],
   "source": [
    "df_corr.shape"
   ]
  },
  {
   "cell_type": "code",
   "execution_count": null,
   "metadata": {},
   "outputs": [],
   "source": []
  },
  {
   "cell_type": "code",
   "execution_count": 58,
   "metadata": {},
   "outputs": [
    {
     "data": {
      "text/plain": [
       "<matplotlib.axes._subplots.AxesSubplot at 0x1890c38bcc8>"
      ]
     },
     "execution_count": 58,
     "metadata": {},
     "output_type": "execute_result"
    },
    {
     "data": {
      "image/png": "[encoded data removed]",
      "text/plain": [
       "<Figure size 504x360 with 2 Axes>"
      ]
     },
     "metadata": {
      "needs_background": "light"
     },
     "output_type": "display_data"
    }
   ],
   "source": [
    "#set hwight and width of a plot on which we want to draw the correlation and analysis\n",
    "f,ax=plt.subplots(figsize=(7,5))\n",
    "#generate corr matrix\n",
    "#extreme red highly correlated data like wise etc\n",
    "corr=df_corr.corr()\n",
    "#plot using seaborn library\n",
    "sns.heatmap(corr,mask=np.zeros_like(corr,dtype=np.bool),cmap=sns.diverging_palette(220,10,as_cmap=True),square=True,ax=ax)"
   ]
  },
  {
   "cell_type": "code",
   "execution_count": null,
   "metadata": {},
   "outputs": [],
   "source": []
  },
  {
   "cell_type": "code",
   "execution_count": 59,
   "metadata": {},
   "outputs": [],
   "source": [
    "#chisquare test for dependent variable\n",
    "#\"default\" is the variable with wich we are comapre all the below if p <0.05 then they are related with each other and we have to consider both otherwise ew eill rejecyt one\n",
    "cat_names=[\"ed\"]"
   ]
  },
  {
   "cell_type": "code",
   "execution_count": null,
   "metadata": {},
   "outputs": [],
   "source": []
  },
  {
   "cell_type": "code",
   "execution_count": 60,
   "metadata": {},
   "outputs": [
    {
     "name": "stdout",
     "output_type": "stream",
     "text": [
      "ed\n",
      "0.04116387566728692\n"
     ]
    }
   ],
   "source": [
    "#loop for chi ssquare test\n",
    "#after running this we will reject  emp_var_rate,day_of_week,loan,housing     because p >0.05 for both\n",
    "for i in cat_names:\n",
    "    print(i)\n",
    "    chi2,p,dof,ex=chi2_contingency(pd.crosstab(loan_data['default'],loan_data[i]))\n",
    "    print(p)\n"
   ]
  },
  {
   "cell_type": "code",
   "execution_count": null,
   "metadata": {},
   "outputs": [],
   "source": [
    "################################FEATURE SCALING############################################################"
   ]
  },
  {
   "cell_type": "code",
   "execution_count": 38,
   "metadata": {},
   "outputs": [
    {
     "data": {
      "text/plain": [
       "(array([305.,   0.,   0.,   0., 153.,   0.,   0.,   0.,  55.,   0.,   0.,\n",
       "          0.,  30.,   0.,   0.,   0.,   2.]),\n",
       " array([1.        , 1.23529412, 1.47058824, 1.70588235, 1.94117647,\n",
       "        2.17647059, 2.41176471, 2.64705882, 2.88235294, 3.11764706,\n",
       "        3.35294118, 3.58823529, 3.82352941, 4.05882353, 4.29411765,\n",
       "        4.52941176, 4.76470588, 5.        ]),\n",
       " <a list of 17 Patch objects>)"
      ]
     },
     "execution_count": 38,
     "metadata": {},
     "output_type": "execute_result"
    },
    {
     "data": {
      "image/png": "[encoded data removed]",
      "text/plain": [
       "<Figure size 432x288 with 1 Axes>"
      ]
     },
     "metadata": {
      "needs_background": "light"
     },
     "output_type": "display_data"
    }
   ],
   "source": [
    "#Normality check\n",
    "%matplotlib inline\n",
    "plt.hist(loan_data['ed'],bins='auto')"
   ]
  },
  {
   "cell_type": "code",
   "execution_count": 85,
   "metadata": {},
   "outputs": [
    {
     "name": "stdout",
     "output_type": "stream",
     "text": [
      "age\n",
      "employ\n",
      "address\n",
      "income\n",
      "debtinc\n",
      "creddebt\n",
      "othdebt\n"
     ]
    }
   ],
   "source": [
    "###data is left squed so we will go with the normalization\n",
    "for i in cnames:\n",
    "    print(i)\n",
    "    loan_data[i] = (loan_data[i] - loan_data[i].min())/(loan_data[i].max() - loan_data[i].min())\n"
   ]
  },
  {
   "cell_type": "code",
   "execution_count": 86,
   "metadata": {},
   "outputs": [
    {
     "data": {
      "text/html": [
       "<div>\n",
       "<style scoped>\n",
       "    .dataframe tbody tr th:only-of-type {\n",
       "        vertical-align: middle;\n",
       "    }\n",
       "\n",
       "    .dataframe tbody tr th {\n",
       "        vertical-align: top;\n",
       "    }\n",
       "\n",
       "    .dataframe thead th {\n",
       "        text-align: right;\n",
       "    }\n",
       "</style>\n",
       "<table border=\"1\" class=\"dataframe\">\n",
       "  <thead>\n",
       "    <tr style=\"text-align: right;\">\n",
       "      <th></th>\n",
       "      <th>age</th>\n",
       "      <th>ed</th>\n",
       "      <th>employ</th>\n",
       "      <th>address</th>\n",
       "      <th>income</th>\n",
       "      <th>debtinc</th>\n",
       "      <th>creddebt</th>\n",
       "      <th>othdebt</th>\n",
       "      <th>default</th>\n",
       "    </tr>\n",
       "  </thead>\n",
       "  <tbody>\n",
       "    <tr>\n",
       "      <td>1</td>\n",
       "      <td>0.200000</td>\n",
       "      <td>1</td>\n",
       "      <td>0.434783</td>\n",
       "      <td>0.24</td>\n",
       "      <td>0.226667</td>\n",
       "      <td>0.619048</td>\n",
       "      <td>0.388171</td>\n",
       "      <td>0.695971</td>\n",
       "      <td>0.0</td>\n",
       "    </tr>\n",
       "    <tr>\n",
       "      <td>2</td>\n",
       "      <td>0.571429</td>\n",
       "      <td>1</td>\n",
       "      <td>0.652174</td>\n",
       "      <td>0.56</td>\n",
       "      <td>0.546667</td>\n",
       "      <td>0.186813</td>\n",
       "      <td>0.242697</td>\n",
       "      <td>0.373629</td>\n",
       "      <td>0.0</td>\n",
       "    </tr>\n",
       "    <tr>\n",
       "      <td>4</td>\n",
       "      <td>0.114286</td>\n",
       "      <td>2</td>\n",
       "      <td>0.086957</td>\n",
       "      <td>0.00</td>\n",
       "      <td>0.186667</td>\n",
       "      <td>0.619048</td>\n",
       "      <td>0.510394</td>\n",
       "      <td>0.529821</td>\n",
       "      <td>1.0</td>\n",
       "    </tr>\n",
       "    <tr>\n",
       "      <td>5</td>\n",
       "      <td>0.600000</td>\n",
       "      <td>2</td>\n",
       "      <td>0.217391</td>\n",
       "      <td>0.20</td>\n",
       "      <td>0.146667</td>\n",
       "      <td>0.358974</td>\n",
       "      <td>0.109511</td>\n",
       "      <td>0.371584</td>\n",
       "      <td>0.0</td>\n",
       "    </tr>\n",
       "    <tr>\n",
       "      <td>7</td>\n",
       "      <td>0.657143</td>\n",
       "      <td>1</td>\n",
       "      <td>0.521739</td>\n",
       "      <td>0.44</td>\n",
       "      <td>0.320000</td>\n",
       "      <td>0.117216</td>\n",
       "      <td>0.033599</td>\n",
       "      <td>0.210069</td>\n",
       "      <td>0.0</td>\n",
       "    </tr>\n",
       "    <tr>\n",
       "      <td>...</td>\n",
       "      <td>...</td>\n",
       "      <td>...</td>\n",
       "      <td>...</td>\n",
       "      <td>...</td>\n",
       "      <td>...</td>\n",
       "      <td>...</td>\n",
       "      <td>...</td>\n",
       "      <td>...</td>\n",
       "      <td>...</td>\n",
       "    </tr>\n",
       "    <tr>\n",
       "      <td>695</td>\n",
       "      <td>0.457143</td>\n",
       "      <td>2</td>\n",
       "      <td>0.260870</td>\n",
       "      <td>0.60</td>\n",
       "      <td>0.173333</td>\n",
       "      <td>0.153846</td>\n",
       "      <td>0.071962</td>\n",
       "      <td>0.164412</td>\n",
       "      <td>1.0</td>\n",
       "    </tr>\n",
       "    <tr>\n",
       "      <td>696</td>\n",
       "      <td>0.257143</td>\n",
       "      <td>2</td>\n",
       "      <td>0.260870</td>\n",
       "      <td>0.16</td>\n",
       "      <td>0.093333</td>\n",
       "      <td>0.406593</td>\n",
       "      <td>0.102841</td>\n",
       "      <td>0.351912</td>\n",
       "      <td>0.0</td>\n",
       "    </tr>\n",
       "    <tr>\n",
       "      <td>697</td>\n",
       "      <td>0.371429</td>\n",
       "      <td>1</td>\n",
       "      <td>0.652174</td>\n",
       "      <td>0.12</td>\n",
       "      <td>0.240000</td>\n",
       "      <td>0.263736</td>\n",
       "      <td>0.137840</td>\n",
       "      <td>0.333476</td>\n",
       "      <td>0.0</td>\n",
       "    </tr>\n",
       "    <tr>\n",
       "      <td>698</td>\n",
       "      <td>0.714286</td>\n",
       "      <td>1</td>\n",
       "      <td>0.826087</td>\n",
       "      <td>0.88</td>\n",
       "      <td>0.840000</td>\n",
       "      <td>0.293040</td>\n",
       "      <td>0.658469</td>\n",
       "      <td>0.724933</td>\n",
       "      <td>0.0</td>\n",
       "    </tr>\n",
       "    <tr>\n",
       "      <td>699</td>\n",
       "      <td>0.485714</td>\n",
       "      <td>1</td>\n",
       "      <td>0.521739</td>\n",
       "      <td>0.56</td>\n",
       "      <td>0.400000</td>\n",
       "      <td>0.523810</td>\n",
       "      <td>0.857389</td>\n",
       "      <td>0.603153</td>\n",
       "      <td>0.0</td>\n",
       "    </tr>\n",
       "  </tbody>\n",
       "</table>\n",
       "<p>545 rows × 9 columns</p>\n",
       "</div>"
      ],
      "text/plain": [
       "          age ed    employ  address    income   debtinc  creddebt   othdebt  \\\n",
       "1    0.200000  1  0.434783     0.24  0.226667  0.619048  0.388171  0.695971   \n",
       "2    0.571429  1  0.652174     0.56  0.546667  0.186813  0.242697  0.373629   \n",
       "4    0.114286  2  0.086957     0.00  0.186667  0.619048  0.510394  0.529821   \n",
       "5    0.600000  2  0.217391     0.20  0.146667  0.358974  0.109511  0.371584   \n",
       "7    0.657143  1  0.521739     0.44  0.320000  0.117216  0.033599  0.210069   \n",
       "..        ... ..       ...      ...       ...       ...       ...       ...   \n",
       "695  0.457143  2  0.260870     0.60  0.173333  0.153846  0.071962  0.164412   \n",
       "696  0.257143  2  0.260870     0.16  0.093333  0.406593  0.102841  0.351912   \n",
       "697  0.371429  1  0.652174     0.12  0.240000  0.263736  0.137840  0.333476   \n",
       "698  0.714286  1  0.826087     0.88  0.840000  0.293040  0.658469  0.724933   \n",
       "699  0.485714  1  0.521739     0.56  0.400000  0.523810  0.857389  0.603153   \n",
       "\n",
       "    default  \n",
       "1       0.0  \n",
       "2       0.0  \n",
       "4       1.0  \n",
       "5       0.0  \n",
       "7       0.0  \n",
       "..      ...  \n",
       "695     1.0  \n",
       "696     0.0  \n",
       "697     0.0  \n",
       "698     0.0  \n",
       "699     0.0  \n",
       "\n",
       "[545 rows x 9 columns]"
      ]
     },
     "execution_count": 86,
     "metadata": {},
     "output_type": "execute_result"
    }
   ],
   "source": [
    "loan_data"
   ]
  },
  {
   "cell_type": "code",
   "execution_count": 87,
   "metadata": {},
   "outputs": [],
   "source": [
    "\n",
    "#################algo implementation"
   ]
  },
  {
   "cell_type": "code",
   "execution_count": 88,
   "metadata": {},
   "outputs": [
    {
     "data": {
      "text/html": [
       "<div>\n",
       "<style scoped>\n",
       "    .dataframe tbody tr th:only-of-type {\n",
       "        vertical-align: middle;\n",
       "    }\n",
       "\n",
       "    .dataframe tbody tr th {\n",
       "        vertical-align: top;\n",
       "    }\n",
       "\n",
       "    .dataframe thead th {\n",
       "        text-align: right;\n",
       "    }\n",
       "</style>\n",
       "<table border=\"1\" class=\"dataframe\">\n",
       "  <thead>\n",
       "    <tr style=\"text-align: right;\">\n",
       "      <th></th>\n",
       "      <th>age</th>\n",
       "      <th>ed</th>\n",
       "      <th>employ</th>\n",
       "      <th>address</th>\n",
       "      <th>income</th>\n",
       "      <th>debtinc</th>\n",
       "      <th>creddebt</th>\n",
       "      <th>othdebt</th>\n",
       "      <th>default</th>\n",
       "    </tr>\n",
       "  </thead>\n",
       "  <tbody>\n",
       "    <tr>\n",
       "      <td>1</td>\n",
       "      <td>0.200000</td>\n",
       "      <td>1</td>\n",
       "      <td>0.434783</td>\n",
       "      <td>0.24</td>\n",
       "      <td>0.226667</td>\n",
       "      <td>0.619048</td>\n",
       "      <td>0.388171</td>\n",
       "      <td>0.695971</td>\n",
       "      <td>0.0</td>\n",
       "    </tr>\n",
       "    <tr>\n",
       "      <td>2</td>\n",
       "      <td>0.571429</td>\n",
       "      <td>1</td>\n",
       "      <td>0.652174</td>\n",
       "      <td>0.56</td>\n",
       "      <td>0.546667</td>\n",
       "      <td>0.186813</td>\n",
       "      <td>0.242697</td>\n",
       "      <td>0.373629</td>\n",
       "      <td>0.0</td>\n",
       "    </tr>\n",
       "    <tr>\n",
       "      <td>4</td>\n",
       "      <td>0.114286</td>\n",
       "      <td>2</td>\n",
       "      <td>0.086957</td>\n",
       "      <td>0.00</td>\n",
       "      <td>0.186667</td>\n",
       "      <td>0.619048</td>\n",
       "      <td>0.510394</td>\n",
       "      <td>0.529821</td>\n",
       "      <td>1.0</td>\n",
       "    </tr>\n",
       "    <tr>\n",
       "      <td>5</td>\n",
       "      <td>0.600000</td>\n",
       "      <td>2</td>\n",
       "      <td>0.217391</td>\n",
       "      <td>0.20</td>\n",
       "      <td>0.146667</td>\n",
       "      <td>0.358974</td>\n",
       "      <td>0.109511</td>\n",
       "      <td>0.371584</td>\n",
       "      <td>0.0</td>\n",
       "    </tr>\n",
       "    <tr>\n",
       "      <td>7</td>\n",
       "      <td>0.657143</td>\n",
       "      <td>1</td>\n",
       "      <td>0.521739</td>\n",
       "      <td>0.44</td>\n",
       "      <td>0.320000</td>\n",
       "      <td>0.117216</td>\n",
       "      <td>0.033599</td>\n",
       "      <td>0.210069</td>\n",
       "      <td>0.0</td>\n",
       "    </tr>\n",
       "    <tr>\n",
       "      <td>...</td>\n",
       "      <td>...</td>\n",
       "      <td>...</td>\n",
       "      <td>...</td>\n",
       "      <td>...</td>\n",
       "      <td>...</td>\n",
       "      <td>...</td>\n",
       "      <td>...</td>\n",
       "      <td>...</td>\n",
       "      <td>...</td>\n",
       "    </tr>\n",
       "    <tr>\n",
       "      <td>695</td>\n",
       "      <td>0.457143</td>\n",
       "      <td>2</td>\n",
       "      <td>0.260870</td>\n",
       "      <td>0.60</td>\n",
       "      <td>0.173333</td>\n",
       "      <td>0.153846</td>\n",
       "      <td>0.071962</td>\n",
       "      <td>0.164412</td>\n",
       "      <td>1.0</td>\n",
       "    </tr>\n",
       "    <tr>\n",
       "      <td>696</td>\n",
       "      <td>0.257143</td>\n",
       "      <td>2</td>\n",
       "      <td>0.260870</td>\n",
       "      <td>0.16</td>\n",
       "      <td>0.093333</td>\n",
       "      <td>0.406593</td>\n",
       "      <td>0.102841</td>\n",
       "      <td>0.351912</td>\n",
       "      <td>0.0</td>\n",
       "    </tr>\n",
       "    <tr>\n",
       "      <td>697</td>\n",
       "      <td>0.371429</td>\n",
       "      <td>1</td>\n",
       "      <td>0.652174</td>\n",
       "      <td>0.12</td>\n",
       "      <td>0.240000</td>\n",
       "      <td>0.263736</td>\n",
       "      <td>0.137840</td>\n",
       "      <td>0.333476</td>\n",
       "      <td>0.0</td>\n",
       "    </tr>\n",
       "    <tr>\n",
       "      <td>698</td>\n",
       "      <td>0.714286</td>\n",
       "      <td>1</td>\n",
       "      <td>0.826087</td>\n",
       "      <td>0.88</td>\n",
       "      <td>0.840000</td>\n",
       "      <td>0.293040</td>\n",
       "      <td>0.658469</td>\n",
       "      <td>0.724933</td>\n",
       "      <td>0.0</td>\n",
       "    </tr>\n",
       "    <tr>\n",
       "      <td>699</td>\n",
       "      <td>0.485714</td>\n",
       "      <td>1</td>\n",
       "      <td>0.521739</td>\n",
       "      <td>0.56</td>\n",
       "      <td>0.400000</td>\n",
       "      <td>0.523810</td>\n",
       "      <td>0.857389</td>\n",
       "      <td>0.603153</td>\n",
       "      <td>0.0</td>\n",
       "    </tr>\n",
       "  </tbody>\n",
       "</table>\n",
       "<p>545 rows × 9 columns</p>\n",
       "</div>"
      ],
      "text/plain": [
       "          age ed    employ  address    income   debtinc  creddebt   othdebt  \\\n",
       "1    0.200000  1  0.434783     0.24  0.226667  0.619048  0.388171  0.695971   \n",
       "2    0.571429  1  0.652174     0.56  0.546667  0.186813  0.242697  0.373629   \n",
       "4    0.114286  2  0.086957     0.00  0.186667  0.619048  0.510394  0.529821   \n",
       "5    0.600000  2  0.217391     0.20  0.146667  0.358974  0.109511  0.371584   \n",
       "7    0.657143  1  0.521739     0.44  0.320000  0.117216  0.033599  0.210069   \n",
       "..        ... ..       ...      ...       ...       ...       ...       ...   \n",
       "695  0.457143  2  0.260870     0.60  0.173333  0.153846  0.071962  0.164412   \n",
       "696  0.257143  2  0.260870     0.16  0.093333  0.406593  0.102841  0.351912   \n",
       "697  0.371429  1  0.652174     0.12  0.240000  0.263736  0.137840  0.333476   \n",
       "698  0.714286  1  0.826087     0.88  0.840000  0.293040  0.658469  0.724933   \n",
       "699  0.485714  1  0.521739     0.56  0.400000  0.523810  0.857389  0.603153   \n",
       "\n",
       "    default  \n",
       "1       0.0  \n",
       "2       0.0  \n",
       "4       1.0  \n",
       "5       0.0  \n",
       "7       0.0  \n",
       "..      ...  \n",
       "695     1.0  \n",
       "696     0.0  \n",
       "697     0.0  \n",
       "698     0.0  \n",
       "699     0.0  \n",
       "\n",
       "[545 rows x 9 columns]"
      ]
     },
     "execution_count": 88,
     "metadata": {},
     "output_type": "execute_result"
    }
   ],
   "source": [
    "loan_data\n"
   ]
  },
  {
   "cell_type": "code",
   "execution_count": 111,
   "metadata": {},
   "outputs": [],
   "source": []
  },
  {
   "cell_type": "code",
   "execution_count": 94,
   "metadata": {},
   "outputs": [],
   "source": []
  },
  {
   "cell_type": "code",
   "execution_count": 98,
   "metadata": {},
   "outputs": [],
   "source": []
  },
  {
   "cell_type": "code",
   "execution_count": 100,
   "metadata": {},
   "outputs": [],
   "source": [
    "#create logistic variable first.save target variable first\n",
    "loan_data_logit=pd.DataFrame(loan_data['default'])"
   ]
  },
  {
   "cell_type": "code",
   "execution_count": 101,
   "metadata": {},
   "outputs": [],
   "source": [
    "#add continuous variables i.e cnames\n",
    "loan_data_logit=loan_data_logit.join(loan_data[cnames])"
   ]
  },
  {
   "cell_type": "code",
   "execution_count": 103,
   "metadata": {},
   "outputs": [],
   "source": [
    "for i in cat_names:\n",
    "    temp=pd.get_dummies(loan_data[i],prefix=i)\n",
    "    loan_data_logit=loan_data_logit.join(temp)"
   ]
  },
  {
   "cell_type": "code",
   "execution_count": 104,
   "metadata": {},
   "outputs": [
    {
     "data": {
      "text/html": [
       "<div>\n",
       "<style scoped>\n",
       "    .dataframe tbody tr th:only-of-type {\n",
       "        vertical-align: middle;\n",
       "    }\n",
       "\n",
       "    .dataframe tbody tr th {\n",
       "        vertical-align: top;\n",
       "    }\n",
       "\n",
       "    .dataframe thead th {\n",
       "        text-align: right;\n",
       "    }\n",
       "</style>\n",
       "<table border=\"1\" class=\"dataframe\">\n",
       "  <thead>\n",
       "    <tr style=\"text-align: right;\">\n",
       "      <th></th>\n",
       "      <th>default</th>\n",
       "      <th>age</th>\n",
       "      <th>employ</th>\n",
       "      <th>address</th>\n",
       "      <th>income</th>\n",
       "      <th>debtinc</th>\n",
       "      <th>creddebt</th>\n",
       "      <th>othdebt</th>\n",
       "      <th>ed_1</th>\n",
       "      <th>ed_2</th>\n",
       "      <th>ed_3</th>\n",
       "      <th>ed_4</th>\n",
       "      <th>ed_5</th>\n",
       "    </tr>\n",
       "  </thead>\n",
       "  <tbody>\n",
       "    <tr>\n",
       "      <td>1</td>\n",
       "      <td>0.0</td>\n",
       "      <td>0.200000</td>\n",
       "      <td>0.434783</td>\n",
       "      <td>0.24</td>\n",
       "      <td>0.226667</td>\n",
       "      <td>0.619048</td>\n",
       "      <td>0.388171</td>\n",
       "      <td>0.695971</td>\n",
       "      <td>1</td>\n",
       "      <td>0</td>\n",
       "      <td>0</td>\n",
       "      <td>0</td>\n",
       "      <td>0</td>\n",
       "    </tr>\n",
       "    <tr>\n",
       "      <td>2</td>\n",
       "      <td>0.0</td>\n",
       "      <td>0.571429</td>\n",
       "      <td>0.652174</td>\n",
       "      <td>0.56</td>\n",
       "      <td>0.546667</td>\n",
       "      <td>0.186813</td>\n",
       "      <td>0.242697</td>\n",
       "      <td>0.373629</td>\n",
       "      <td>1</td>\n",
       "      <td>0</td>\n",
       "      <td>0</td>\n",
       "      <td>0</td>\n",
       "      <td>0</td>\n",
       "    </tr>\n",
       "    <tr>\n",
       "      <td>4</td>\n",
       "      <td>1.0</td>\n",
       "      <td>0.114286</td>\n",
       "      <td>0.086957</td>\n",
       "      <td>0.00</td>\n",
       "      <td>0.186667</td>\n",
       "      <td>0.619048</td>\n",
       "      <td>0.510394</td>\n",
       "      <td>0.529821</td>\n",
       "      <td>0</td>\n",
       "      <td>1</td>\n",
       "      <td>0</td>\n",
       "      <td>0</td>\n",
       "      <td>0</td>\n",
       "    </tr>\n",
       "    <tr>\n",
       "      <td>5</td>\n",
       "      <td>0.0</td>\n",
       "      <td>0.600000</td>\n",
       "      <td>0.217391</td>\n",
       "      <td>0.20</td>\n",
       "      <td>0.146667</td>\n",
       "      <td>0.358974</td>\n",
       "      <td>0.109511</td>\n",
       "      <td>0.371584</td>\n",
       "      <td>0</td>\n",
       "      <td>1</td>\n",
       "      <td>0</td>\n",
       "      <td>0</td>\n",
       "      <td>0</td>\n",
       "    </tr>\n",
       "    <tr>\n",
       "      <td>7</td>\n",
       "      <td>0.0</td>\n",
       "      <td>0.657143</td>\n",
       "      <td>0.521739</td>\n",
       "      <td>0.44</td>\n",
       "      <td>0.320000</td>\n",
       "      <td>0.117216</td>\n",
       "      <td>0.033599</td>\n",
       "      <td>0.210069</td>\n",
       "      <td>1</td>\n",
       "      <td>0</td>\n",
       "      <td>0</td>\n",
       "      <td>0</td>\n",
       "      <td>0</td>\n",
       "    </tr>\n",
       "    <tr>\n",
       "      <td>...</td>\n",
       "      <td>...</td>\n",
       "      <td>...</td>\n",
       "      <td>...</td>\n",
       "      <td>...</td>\n",
       "      <td>...</td>\n",
       "      <td>...</td>\n",
       "      <td>...</td>\n",
       "      <td>...</td>\n",
       "      <td>...</td>\n",
       "      <td>...</td>\n",
       "      <td>...</td>\n",
       "      <td>...</td>\n",
       "      <td>...</td>\n",
       "    </tr>\n",
       "    <tr>\n",
       "      <td>695</td>\n",
       "      <td>1.0</td>\n",
       "      <td>0.457143</td>\n",
       "      <td>0.260870</td>\n",
       "      <td>0.60</td>\n",
       "      <td>0.173333</td>\n",
       "      <td>0.153846</td>\n",
       "      <td>0.071962</td>\n",
       "      <td>0.164412</td>\n",
       "      <td>0</td>\n",
       "      <td>1</td>\n",
       "      <td>0</td>\n",
       "      <td>0</td>\n",
       "      <td>0</td>\n",
       "    </tr>\n",
       "    <tr>\n",
       "      <td>696</td>\n",
       "      <td>0.0</td>\n",
       "      <td>0.257143</td>\n",
       "      <td>0.260870</td>\n",
       "      <td>0.16</td>\n",
       "      <td>0.093333</td>\n",
       "      <td>0.406593</td>\n",
       "      <td>0.102841</td>\n",
       "      <td>0.351912</td>\n",
       "      <td>0</td>\n",
       "      <td>1</td>\n",
       "      <td>0</td>\n",
       "      <td>0</td>\n",
       "      <td>0</td>\n",
       "    </tr>\n",
       "    <tr>\n",
       "      <td>697</td>\n",
       "      <td>0.0</td>\n",
       "      <td>0.371429</td>\n",
       "      <td>0.652174</td>\n",
       "      <td>0.12</td>\n",
       "      <td>0.240000</td>\n",
       "      <td>0.263736</td>\n",
       "      <td>0.137840</td>\n",
       "      <td>0.333476</td>\n",
       "      <td>1</td>\n",
       "      <td>0</td>\n",
       "      <td>0</td>\n",
       "      <td>0</td>\n",
       "      <td>0</td>\n",
       "    </tr>\n",
       "    <tr>\n",
       "      <td>698</td>\n",
       "      <td>0.0</td>\n",
       "      <td>0.714286</td>\n",
       "      <td>0.826087</td>\n",
       "      <td>0.88</td>\n",
       "      <td>0.840000</td>\n",
       "      <td>0.293040</td>\n",
       "      <td>0.658469</td>\n",
       "      <td>0.724933</td>\n",
       "      <td>1</td>\n",
       "      <td>0</td>\n",
       "      <td>0</td>\n",
       "      <td>0</td>\n",
       "      <td>0</td>\n",
       "    </tr>\n",
       "    <tr>\n",
       "      <td>699</td>\n",
       "      <td>0.0</td>\n",
       "      <td>0.485714</td>\n",
       "      <td>0.521739</td>\n",
       "      <td>0.56</td>\n",
       "      <td>0.400000</td>\n",
       "      <td>0.523810</td>\n",
       "      <td>0.857389</td>\n",
       "      <td>0.603153</td>\n",
       "      <td>1</td>\n",
       "      <td>0</td>\n",
       "      <td>0</td>\n",
       "      <td>0</td>\n",
       "      <td>0</td>\n",
       "    </tr>\n",
       "  </tbody>\n",
       "</table>\n",
       "<p>545 rows × 13 columns</p>\n",
       "</div>"
      ],
      "text/plain": [
       "    default       age    employ  address    income   debtinc  creddebt  \\\n",
       "1       0.0  0.200000  0.434783     0.24  0.226667  0.619048  0.388171   \n",
       "2       0.0  0.571429  0.652174     0.56  0.546667  0.186813  0.242697   \n",
       "4       1.0  0.114286  0.086957     0.00  0.186667  0.619048  0.510394   \n",
       "5       0.0  0.600000  0.217391     0.20  0.146667  0.358974  0.109511   \n",
       "7       0.0  0.657143  0.521739     0.44  0.320000  0.117216  0.033599   \n",
       "..      ...       ...       ...      ...       ...       ...       ...   \n",
       "695     1.0  0.457143  0.260870     0.60  0.173333  0.153846  0.071962   \n",
       "696     0.0  0.257143  0.260870     0.16  0.093333  0.406593  0.102841   \n",
       "697     0.0  0.371429  0.652174     0.12  0.240000  0.263736  0.137840   \n",
       "698     0.0  0.714286  0.826087     0.88  0.840000  0.293040  0.658469   \n",
       "699     0.0  0.485714  0.521739     0.56  0.400000  0.523810  0.857389   \n",
       "\n",
       "      othdebt  ed_1  ed_2  ed_3  ed_4  ed_5  \n",
       "1    0.695971     1     0     0     0     0  \n",
       "2    0.373629     1     0     0     0     0  \n",
       "4    0.529821     0     1     0     0     0  \n",
       "5    0.371584     0     1     0     0     0  \n",
       "7    0.210069     1     0     0     0     0  \n",
       "..        ...   ...   ...   ...   ...   ...  \n",
       "695  0.164412     0     1     0     0     0  \n",
       "696  0.351912     0     1     0     0     0  \n",
       "697  0.333476     1     0     0     0     0  \n",
       "698  0.724933     1     0     0     0     0  \n",
       "699  0.603153     1     0     0     0     0  \n",
       "\n",
       "[545 rows x 13 columns]"
      ]
     },
     "execution_count": 104,
     "metadata": {},
     "output_type": "execute_result"
    }
   ],
   "source": [
    "loan_data_logit"
   ]
  },
  {
   "cell_type": "code",
   "execution_count": 105,
   "metadata": {},
   "outputs": [],
   "source": [
    "#dividing data into train and test 80% in train  and 20 % in test\n",
    "sample_index=np.random.rand(len(loan_data_logit))<0.8\n",
    "train=loan_data_logit[sample_index]\n",
    "test=loan_data_logit[~sample_index]"
   ]
  },
  {
   "cell_type": "code",
   "execution_count": 113,
   "metadata": {},
   "outputs": [],
   "source": [
    "#taking column name of all independent variable in sperate  variable\n",
    "train_cols=train.columns[1:13]"
   ]
  },
  {
   "cell_type": "code",
   "execution_count": 114,
   "metadata": {},
   "outputs": [
    {
     "data": {
      "text/plain": [
       "Index(['age', 'employ', 'address', 'income', 'debtinc', 'creddebt', 'othdebt',\n",
       "       'ed_1', 'ed_2', 'ed_3', 'ed_4', 'ed_5'],\n",
       "      dtype='object')"
      ]
     },
     "execution_count": 114,
     "metadata": {},
     "output_type": "execute_result"
    }
   ],
   "source": [
    "train_cols"
   ]
  },
  {
   "cell_type": "code",
   "execution_count": 115,
   "metadata": {},
   "outputs": [
    {
     "name": "stdout",
     "output_type": "stream",
     "text": [
      "Warning: Maximum number of iterations has been exceeded.\n",
      "         Current function value: 0.421943\n",
      "         Iterations: 35\n"
     ]
    },
    {
     "name": "stderr",
     "output_type": "stream",
     "text": [
      "C:\\Users\\rishabh\\Anaconda3\\lib\\site-packages\\statsmodels\\base\\model.py:512: ConvergenceWarning: Maximum Likelihood optimization failed to converge. Check mle_retvals\n",
      "  \"Check mle_retvals\", ConvergenceWarning)\n"
     ]
    }
   ],
   "source": [
    "#build logistic regression model\n",
    "import statsmodels.api as sm\n",
    "logit=sm.Logit(train['default'],train[train_cols]).fit()"
   ]
  },
  {
   "cell_type": "code",
   "execution_count": 116,
   "metadata": {},
   "outputs": [
    {
     "data": {
      "text/html": [
       "<table class=\"simpletable\">\n",
       "<caption>Logit Regression Results</caption>\n",
       "<tr>\n",
       "  <th>Dep. Variable:</th>        <td>default</td>     <th>  No. Observations:  </th>  <td>   444</td>  \n",
       "</tr>\n",
       "<tr>\n",
       "  <th>Model:</th>                 <td>Logit</td>      <th>  Df Residuals:      </th>  <td>   432</td>  \n",
       "</tr>\n",
       "<tr>\n",
       "  <th>Method:</th>                 <td>MLE</td>       <th>  Df Model:          </th>  <td>    11</td>  \n",
       "</tr>\n",
       "<tr>\n",
       "  <th>Date:</th>            <td>Tue, 31 Dec 2019</td> <th>  Pseudo R-squ.:     </th>  <td>0.2395</td>  \n",
       "</tr>\n",
       "<tr>\n",
       "  <th>Time:</th>                <td>00:03:10</td>     <th>  Log-Likelihood:    </th> <td> -187.34</td> \n",
       "</tr>\n",
       "<tr>\n",
       "  <th>converged:</th>             <td>False</td>      <th>  LL-Null:           </th> <td> -246.33</td> \n",
       "</tr>\n",
       "<tr>\n",
       "  <th>Covariance Type:</th>     <td>nonrobust</td>    <th>  LLR p-value:       </th> <td>4.643e-20</td>\n",
       "</tr>\n",
       "</table>\n",
       "<table class=\"simpletable\">\n",
       "<tr>\n",
       "      <td></td>        <th>coef</th>     <th>std err</th>      <th>z</th>      <th>P>|z|</th>  <th>[0.025</th>    <th>0.975]</th>  \n",
       "</tr>\n",
       "<tr>\n",
       "  <th>age</th>      <td>    0.7939</td> <td>    0.778</td> <td>    1.021</td> <td> 0.307</td> <td>   -0.731</td> <td>    2.319</td>\n",
       "</tr>\n",
       "<tr>\n",
       "  <th>employ</th>   <td>   -5.0364</td> <td>    1.026</td> <td>   -4.910</td> <td> 0.000</td> <td>   -7.047</td> <td>   -3.026</td>\n",
       "</tr>\n",
       "<tr>\n",
       "  <th>address</th>  <td>   -2.0209</td> <td>    0.756</td> <td>   -2.674</td> <td> 0.008</td> <td>   -3.502</td> <td>   -0.539</td>\n",
       "</tr>\n",
       "<tr>\n",
       "  <th>income</th>   <td>   -0.8568</td> <td>    1.678</td> <td>   -0.511</td> <td> 0.610</td> <td>   -4.145</td> <td>    2.431</td>\n",
       "</tr>\n",
       "<tr>\n",
       "  <th>debtinc</th>  <td>    1.7618</td> <td>    1.779</td> <td>    0.990</td> <td> 0.322</td> <td>   -1.726</td> <td>    5.250</td>\n",
       "</tr>\n",
       "<tr>\n",
       "  <th>creddebt</th> <td>    2.7160</td> <td>    0.968</td> <td>    2.805</td> <td> 0.005</td> <td>    0.818</td> <td>    4.614</td>\n",
       "</tr>\n",
       "<tr>\n",
       "  <th>othdebt</th>  <td>    0.0061</td> <td>    1.409</td> <td>    0.004</td> <td> 0.997</td> <td>   -2.755</td> <td>    2.767</td>\n",
       "</tr>\n",
       "<tr>\n",
       "  <th>ed_1</th>     <td>   -0.9999</td> <td>    0.466</td> <td>   -2.147</td> <td> 0.032</td> <td>   -1.913</td> <td>   -0.087</td>\n",
       "</tr>\n",
       "<tr>\n",
       "  <th>ed_2</th>     <td>   -0.7417</td> <td>    0.478</td> <td>   -1.551</td> <td> 0.121</td> <td>   -1.679</td> <td>    0.196</td>\n",
       "</tr>\n",
       "<tr>\n",
       "  <th>ed_3</th>     <td>   -1.1362</td> <td>    0.573</td> <td>   -1.983</td> <td> 0.047</td> <td>   -2.259</td> <td>   -0.013</td>\n",
       "</tr>\n",
       "<tr>\n",
       "  <th>ed_4</th>     <td>   -1.3221</td> <td>    0.718</td> <td>   -1.841</td> <td> 0.066</td> <td>   -2.730</td> <td>    0.086</td>\n",
       "</tr>\n",
       "<tr>\n",
       "  <th>ed_5</th>     <td>   22.1935</td> <td> 5.76e+04</td> <td>    0.000</td> <td> 1.000</td> <td>-1.13e+05</td> <td> 1.13e+05</td>\n",
       "</tr>\n",
       "</table>"
      ],
      "text/plain": [
       "<class 'statsmodels.iolib.summary.Summary'>\n",
       "\"\"\"\n",
       "                           Logit Regression Results                           \n",
       "==============================================================================\n",
       "Dep. Variable:                default   No. Observations:                  444\n",
       "Model:                          Logit   Df Residuals:                      432\n",
       "Method:                           MLE   Df Model:                           11\n",
       "Date:                Tue, 31 Dec 2019   Pseudo R-squ.:                  0.2395\n",
       "Time:                        00:03:10   Log-Likelihood:                -187.34\n",
       "converged:                      False   LL-Null:                       -246.33\n",
       "Covariance Type:            nonrobust   LLR p-value:                 4.643e-20\n",
       "==============================================================================\n",
       "                 coef    std err          z      P>|z|      [0.025      0.975]\n",
       "------------------------------------------------------------------------------\n",
       "age            0.7939      0.778      1.021      0.307      -0.731       2.319\n",
       "employ        -5.0364      1.026     -4.910      0.000      -7.047      -3.026\n",
       "address       -2.0209      0.756     -2.674      0.008      -3.502      -0.539\n",
       "income        -0.8568      1.678     -0.511      0.610      -4.145       2.431\n",
       "debtinc        1.7618      1.779      0.990      0.322      -1.726       5.250\n",
       "creddebt       2.7160      0.968      2.805      0.005       0.818       4.614\n",
       "othdebt        0.0061      1.409      0.004      0.997      -2.755       2.767\n",
       "ed_1          -0.9999      0.466     -2.147      0.032      -1.913      -0.087\n",
       "ed_2          -0.7417      0.478     -1.551      0.121      -1.679       0.196\n",
       "ed_3          -1.1362      0.573     -1.983      0.047      -2.259      -0.013\n",
       "ed_4          -1.3221      0.718     -1.841      0.066      -2.730       0.086\n",
       "ed_5          22.1935   5.76e+04      0.000      1.000   -1.13e+05    1.13e+05\n",
       "==============================================================================\n",
       "\"\"\""
      ]
     },
     "execution_count": 116,
     "metadata": {},
     "output_type": "execute_result"
    }
   ],
   "source": [
    "logit.summary()"
   ]
  },
  {
   "cell_type": "code",
   "execution_count": 117,
   "metadata": {},
   "outputs": [
    {
     "name": "stderr",
     "output_type": "stream",
     "text": [
      "C:\\Users\\rishabh\\Anaconda3\\lib\\site-packages\\ipykernel_launcher.py:2: SettingWithCopyWarning: \n",
      "A value is trying to be set on a copy of a slice from a DataFrame.\n",
      "Try using .loc[row_indexer,col_indexer] = value instead\n",
      "\n",
      "See the caveats in the documentation: http://pandas.pydata.org/pandas-docs/stable/user_guide/indexing.html#returning-a-view-versus-a-copy\n",
      "  \n"
     ]
    }
   ],
   "source": [
    "#predict test data to look accuracy of our model\n",
    "test['Actual_prob']=logit.predict(test[train_cols])"
   ]
  },
  {
   "cell_type": "code",
   "execution_count": 121,
   "metadata": {},
   "outputs": [
    {
     "data": {
      "text/html": [
       "<div>\n",
       "<style scoped>\n",
       "    .dataframe tbody tr th:only-of-type {\n",
       "        vertical-align: middle;\n",
       "    }\n",
       "\n",
       "    .dataframe tbody tr th {\n",
       "        vertical-align: top;\n",
       "    }\n",
       "\n",
       "    .dataframe thead th {\n",
       "        text-align: right;\n",
       "    }\n",
       "</style>\n",
       "<table border=\"1\" class=\"dataframe\">\n",
       "  <thead>\n",
       "    <tr style=\"text-align: right;\">\n",
       "      <th></th>\n",
       "      <th>default</th>\n",
       "      <th>age</th>\n",
       "      <th>employ</th>\n",
       "      <th>address</th>\n",
       "      <th>income</th>\n",
       "      <th>debtinc</th>\n",
       "      <th>creddebt</th>\n",
       "      <th>othdebt</th>\n",
       "      <th>ed_1</th>\n",
       "      <th>ed_2</th>\n",
       "      <th>ed_3</th>\n",
       "      <th>ed_4</th>\n",
       "      <th>ed_5</th>\n",
       "      <th>Actual_prob</th>\n",
       "      <th>ActualVal</th>\n",
       "    </tr>\n",
       "  </thead>\n",
       "  <tbody>\n",
       "    <tr>\n",
       "      <td>10</td>\n",
       "      <td>0.0</td>\n",
       "      <td>0.200000</td>\n",
       "      <td>0.000000</td>\n",
       "      <td>0.04</td>\n",
       "      <td>0.026667</td>\n",
       "      <td>0.047619</td>\n",
       "      <td>0.049097</td>\n",
       "      <td>0.007725</td>\n",
       "      <td>1</td>\n",
       "      <td>0</td>\n",
       "      <td>0</td>\n",
       "      <td>0</td>\n",
       "      <td>0</td>\n",
       "      <td>0.325739</td>\n",
       "      <td>0</td>\n",
       "    </tr>\n",
       "    <tr>\n",
       "      <td>13</td>\n",
       "      <td>0.0</td>\n",
       "      <td>0.485714</td>\n",
       "      <td>0.260870</td>\n",
       "      <td>0.36</td>\n",
       "      <td>0.200000</td>\n",
       "      <td>0.582418</td>\n",
       "      <td>0.489833</td>\n",
       "      <td>0.521820</td>\n",
       "      <td>1</td>\n",
       "      <td>0</td>\n",
       "      <td>0</td>\n",
       "      <td>0</td>\n",
       "      <td>0</td>\n",
       "      <td>0.385242</td>\n",
       "      <td>0</td>\n",
       "    </tr>\n",
       "    <tr>\n",
       "      <td>21</td>\n",
       "      <td>0.0</td>\n",
       "      <td>0.771429</td>\n",
       "      <td>0.739130</td>\n",
       "      <td>0.84</td>\n",
       "      <td>0.386667</td>\n",
       "      <td>0.190476</td>\n",
       "      <td>0.165516</td>\n",
       "      <td>0.312310</td>\n",
       "      <td>1</td>\n",
       "      <td>0</td>\n",
       "      <td>0</td>\n",
       "      <td>0</td>\n",
       "      <td>0</td>\n",
       "      <td>0.004717</td>\n",
       "      <td>0</td>\n",
       "    </tr>\n",
       "    <tr>\n",
       "      <td>22</td>\n",
       "      <td>0.0</td>\n",
       "      <td>0.228571</td>\n",
       "      <td>0.130435</td>\n",
       "      <td>0.24</td>\n",
       "      <td>0.160000</td>\n",
       "      <td>0.351648</td>\n",
       "      <td>0.120691</td>\n",
       "      <td>0.373537</td>\n",
       "      <td>1</td>\n",
       "      <td>0</td>\n",
       "      <td>0</td>\n",
       "      <td>0</td>\n",
       "      <td>0</td>\n",
       "      <td>0.240879</td>\n",
       "      <td>0</td>\n",
       "    </tr>\n",
       "    <tr>\n",
       "      <td>25</td>\n",
       "      <td>0.0</td>\n",
       "      <td>0.142857</td>\n",
       "      <td>0.000000</td>\n",
       "      <td>0.08</td>\n",
       "      <td>0.240000</td>\n",
       "      <td>0.630037</td>\n",
       "      <td>0.611777</td>\n",
       "      <td>0.606413</td>\n",
       "      <td>0</td>\n",
       "      <td>0</td>\n",
       "      <td>0</td>\n",
       "      <td>1</td>\n",
       "      <td>0</td>\n",
       "      <td>0.768399</td>\n",
       "      <td>1</td>\n",
       "    </tr>\n",
       "  </tbody>\n",
       "</table>\n",
       "</div>"
      ],
      "text/plain": [
       "   default       age    employ  address    income   debtinc  creddebt  \\\n",
       "10     0.0  0.200000  0.000000     0.04  0.026667  0.047619  0.049097   \n",
       "13     0.0  0.485714  0.260870     0.36  0.200000  0.582418  0.489833   \n",
       "21     0.0  0.771429  0.739130     0.84  0.386667  0.190476  0.165516   \n",
       "22     0.0  0.228571  0.130435     0.24  0.160000  0.351648  0.120691   \n",
       "25     0.0  0.142857  0.000000     0.08  0.240000  0.630037  0.611777   \n",
       "\n",
       "     othdebt  ed_1  ed_2  ed_3  ed_4  ed_5  Actual_prob  ActualVal  \n",
       "10  0.007725     1     0     0     0     0     0.325739          0  \n",
       "13  0.521820     1     0     0     0     0     0.385242          0  \n",
       "21  0.312310     1     0     0     0     0     0.004717          0  \n",
       "22  0.373537     1     0     0     0     0     0.240879          0  \n",
       "25  0.606413     0     0     0     1     0     0.768399          1  "
      ]
     },
     "execution_count": 121,
     "metadata": {},
     "output_type": "execute_result"
    }
   ],
   "source": [
    "test.head()"
   ]
  },
  {
   "cell_type": "code",
   "execution_count": null,
   "metadata": {},
   "outputs": [],
   "source": []
  },
  {
   "cell_type": "code",
   "execution_count": 120,
   "metadata": {},
   "outputs": [
    {
     "name": "stderr",
     "output_type": "stream",
     "text": [
      "C:\\Users\\rishabh\\Anaconda3\\lib\\site-packages\\ipykernel_launcher.py:2: SettingWithCopyWarning: \n",
      "A value is trying to be set on a copy of a slice from a DataFrame.\n",
      "Try using .loc[row_indexer,col_indexer] = value instead\n",
      "\n",
      "See the caveats in the documentation: http://pandas.pydata.org/pandas-docs/stable/user_guide/indexing.html#returning-a-view-versus-a-copy\n",
      "  \n",
      "C:\\Users\\rishabh\\Anaconda3\\lib\\site-packages\\pandas\\core\\indexing.py:494: SettingWithCopyWarning: \n",
      "A value is trying to be set on a copy of a slice from a DataFrame.\n",
      "Try using .loc[row_indexer,col_indexer] = value instead\n",
      "\n",
      "See the caveats in the documentation: http://pandas.pydata.org/pandas-docs/stable/user_guide/indexing.html#returning-a-view-versus-a-copy\n",
      "  self.obj[item] = s\n"
     ]
    }
   ],
   "source": [
    "#convert these probabilities into target class yes and no\n",
    "test['ActualVal']=1\n",
    "test.loc[test.Actual_prob<0.5,'ActualVal']=0"
   ]
  },
  {
   "cell_type": "code",
   "execution_count": 122,
   "metadata": {},
   "outputs": [],
   "source": [
    "#Build confusion Matrix\n",
    "CM=pd.crosstab(test['default'],test['ActualVal'])\n",
    "TN=CM.iloc[0,0]\n",
    "FP=CM.iloc[0,1]\n",
    "FN=CM.iloc[1,0]\n",
    "TP=CM.iloc[1,1]"
   ]
  },
  {
   "cell_type": "code",
   "execution_count": 123,
   "metadata": {},
   "outputs": [
    {
     "data": {
      "text/plain": [
       "0.7722772277227723"
      ]
     },
     "execution_count": 123,
     "metadata": {},
     "output_type": "execute_result"
    }
   ],
   "source": [
    "#accuracy\n",
    "(TP+TN)/(TP+TN+FP+FN)"
   ]
  },
  {
   "cell_type": "code",
   "execution_count": 124,
   "metadata": {},
   "outputs": [
    {
     "data": {
      "text/plain": [
       "0.6923076923076923"
      ]
     },
     "execution_count": 124,
     "metadata": {},
     "output_type": "execute_result"
    }
   ],
   "source": [
    "#FNR\n",
    "FN/(FN+TP)"
   ]
  },
  {
   "cell_type": "code",
   "execution_count": null,
   "metadata": {},
   "outputs": [],
   "source": [
    "###ACC=77.27\n",
    "####FNR=69.23"
   ]
  },
  {
   "cell_type": "code",
   "execution_count": 125,
   "metadata": {},
   "outputs": [],
   "source": [
    "###############NAIVE BAYES"
   ]
  },
  {
   "cell_type": "code",
   "execution_count": null,
   "metadata": {},
   "outputs": [],
   "source": [
    "#startified sampling\n",
    "from sklearn.model_selection import train_test_split\n"
   ]
  },
  {
   "cell_type": "code",
   "execution_count": 134,
   "metadata": {},
   "outputs": [],
   "source": [
    "#dividing the daata for train and test\n",
    "#here we save the dependent variable in Y and all independent variable in X (0:8 menas it take upto 7 )\n",
    "X=loan_data.values[:,0:8]\n",
    "Y=loan_data.values[:,8]\n",
    "Y=Y.astype('int')"
   ]
  },
  {
   "cell_type": "code",
   "execution_count": 135,
   "metadata": {},
   "outputs": [],
   "source": [
    "X_train,X_test,y_train,y_test=train_test_split(X,Y,test_size=0.2)"
   ]
  },
  {
   "cell_type": "code",
   "execution_count": 136,
   "metadata": {},
   "outputs": [],
   "source": [
    "#import library\n",
    "from sklearn.naive_bayes import GaussianNB\n",
    "#develop model\n",
    "NB_model=GaussianNB().fit(X_train,y_train)"
   ]
  },
  {
   "cell_type": "code",
   "execution_count": 137,
   "metadata": {},
   "outputs": [],
   "source": [
    "#predict test cases\n",
    "NB_predictions=NB_model.predict(X_test)"
   ]
  },
  {
   "cell_type": "code",
   "execution_count": 188,
   "metadata": {},
   "outputs": [
    {
     "data": {
      "text/plain": [
       "0.7889908256880734"
      ]
     },
     "execution_count": 188,
     "metadata": {},
     "output_type": "execute_result"
    }
   ],
   "source": [
    "#confusion_matrix\n",
    "CM=pd.crosstab(y_test,NB_predictions)\n",
    "TN=CM.iloc[0,0]\n",
    "FP=CM.iloc[0,1]\n",
    "FN=CM.iloc[1,0]\n",
    "TP=CM.iloc[1,1]\n",
    "#accuracy\n",
    "(TP+TN)/(TP+TN+FP+FN)"
   ]
  },
  {
   "cell_type": "code",
   "execution_count": null,
   "metadata": {},
   "outputs": [],
   "source": []
  },
  {
   "cell_type": "code",
   "execution_count": 189,
   "metadata": {},
   "outputs": [
    {
     "data": {
      "text/plain": [
       "0.48"
      ]
     },
     "execution_count": 189,
     "metadata": {},
     "output_type": "execute_result"
    }
   ],
   "source": [
    "###FNR\n",
    "FN/(FN+TP)"
   ]
  },
  {
   "cell_type": "code",
   "execution_count": null,
   "metadata": {},
   "outputs": [],
   "source": []
  },
  {
   "cell_type": "code",
   "execution_count": null,
   "metadata": {},
   "outputs": [],
   "source": [
    "########################KNN"
   ]
  },
  {
   "cell_type": "code",
   "execution_count": 140,
   "metadata": {},
   "outputs": [],
   "source": [
    "from sklearn.neighbors import KNeighborsClassifier\n",
    "\n"
   ]
  },
  {
   "cell_type": "code",
   "execution_count": 147,
   "metadata": {},
   "outputs": [
    {
     "data": {
      "text/plain": [
       "0.6788990825688074"
      ]
     },
     "execution_count": 147,
     "metadata": {},
     "output_type": "execute_result"
    }
   ],
   "source": [
    "KNN_model=KNeighborsClassifier(n_neighbors=1).fit(X_train,y_train)\n",
    "KNN_Predictions=KNN_model.predict(X_test)\n",
    "#Build confusion Matrix\n",
    "CM=pd.crosstab(y_test,KNN_Predictions)\n",
    "TN=CM.iloc[0,0]\n",
    "FP=CM.iloc[0,1]\n",
    "FN=CM.iloc[1,0]\n",
    "TP=CM.iloc[1,1]\n",
    "#accuracy\n",
    "(TP+TN)/(TP+TN+FP+FN)\n"
   ]
  },
  {
   "cell_type": "code",
   "execution_count": null,
   "metadata": {},
   "outputs": [],
   "source": []
  },
  {
   "cell_type": "code",
   "execution_count": 148,
   "metadata": {},
   "outputs": [
    {
     "data": {
      "text/plain": [
       "0.6"
      ]
     },
     "execution_count": 148,
     "metadata": {},
     "output_type": "execute_result"
    }
   ],
   "source": [
    "###FNR FOR N=1\n",
    "FN/(FN+TP)"
   ]
  },
  {
   "cell_type": "code",
   "execution_count": null,
   "metadata": {},
   "outputs": [],
   "source": []
  },
  {
   "cell_type": "code",
   "execution_count": 149,
   "metadata": {},
   "outputs": [
    {
     "data": {
      "text/plain": [
       "0.7522935779816514"
      ]
     },
     "execution_count": 149,
     "metadata": {},
     "output_type": "execute_result"
    }
   ],
   "source": [
    "#####for n=3\n",
    "KNN_model=KNeighborsClassifier(n_neighbors=3).fit(X_train,y_train)\n",
    "KNN_Predictions=KNN_model.predict(X_test)\n",
    "#Build confusion Matrix\n",
    "CM=pd.crosstab(y_test,KNN_Predictions)\n",
    "TN=CM.iloc[0,0]\n",
    "FP=CM.iloc[0,1]\n",
    "FN=CM.iloc[1,0]\n",
    "TP=CM.iloc[1,1]\n",
    "#accuracy\n",
    "(TP+TN)/(TP+TN+FP+FN)\n"
   ]
  },
  {
   "cell_type": "code",
   "execution_count": null,
   "metadata": {},
   "outputs": [],
   "source": []
  },
  {
   "cell_type": "code",
   "execution_count": 150,
   "metadata": {},
   "outputs": [
    {
     "data": {
      "text/plain": [
       "0.6"
      ]
     },
     "execution_count": 150,
     "metadata": {},
     "output_type": "execute_result"
    }
   ],
   "source": [
    "###FNR FOR N=3\n",
    "FN/(FN+TP)"
   ]
  },
  {
   "cell_type": "code",
   "execution_count": 151,
   "metadata": {},
   "outputs": [
    {
     "data": {
      "text/plain": [
       "0.7614678899082569"
      ]
     },
     "execution_count": 151,
     "metadata": {},
     "output_type": "execute_result"
    }
   ],
   "source": [
    "#####for n=5\n",
    "KNN_model=KNeighborsClassifier(n_neighbors=5).fit(X_train,y_train)\n",
    "KNN_Predictions=KNN_model.predict(X_test)\n",
    "#Build confusion Matrix\n",
    "CM=pd.crosstab(y_test,KNN_Predictions)\n",
    "TN=CM.iloc[0,0]\n",
    "FP=CM.iloc[0,1]\n",
    "FN=CM.iloc[1,0]\n",
    "TP=CM.iloc[1,1]\n",
    "#accuracy\n",
    "(TP+TN)/(TP+TN+FP+FN)\n"
   ]
  },
  {
   "cell_type": "code",
   "execution_count": 152,
   "metadata": {},
   "outputs": [
    {
     "data": {
      "text/plain": [
       "0.6"
      ]
     },
     "execution_count": 152,
     "metadata": {},
     "output_type": "execute_result"
    }
   ],
   "source": [
    "###FNR FOR N=5\n",
    "FN/(FN+TP)"
   ]
  },
  {
   "cell_type": "code",
   "execution_count": 161,
   "metadata": {},
   "outputs": [
    {
     "data": {
      "text/plain": [
       "0.7798165137614679"
      ]
     },
     "execution_count": 161,
     "metadata": {},
     "output_type": "execute_result"
    }
   ],
   "source": [
    "#####for n=5\n",
    "KNN_model=KNeighborsClassifier(n_neighbors=7).fit(X_train,y_train)\n",
    "KNN_Predictions=KNN_model.predict(X_test)\n",
    "#Build confusion Matrix\n",
    "CM=pd.crosstab(y_test,KNN_Predictions)\n",
    "TN=CM.iloc[0,0]\n",
    "FP=CM.iloc[0,1]\n",
    "FN=CM.iloc[1,0]\n",
    "TP=CM.iloc[1,1]\n",
    "#accuracy\n",
    "(TP+TN)/(TP+TN+FP+FN)"
   ]
  },
  {
   "cell_type": "code",
   "execution_count": 162,
   "metadata": {},
   "outputs": [
    {
     "data": {
      "text/plain": [
       "0.64"
      ]
     },
     "execution_count": 162,
     "metadata": {},
     "output_type": "execute_result"
    }
   ],
   "source": [
    "###FNR FOR N=7\n",
    "FN/(FN+TP)"
   ]
  },
  {
   "cell_type": "code",
   "execution_count": null,
   "metadata": {},
   "outputs": [],
   "source": [
    "###############################Decision tree"
   ]
  },
  {
   "cell_type": "code",
   "execution_count": 164,
   "metadata": {},
   "outputs": [],
   "source": [
    "#load libraries for decision tree\n",
    "from sklearn import tree\n",
    "from sklearn.metrics import accuracy_score"
   ]
  },
  {
   "cell_type": "code",
   "execution_count": null,
   "metadata": {},
   "outputs": [],
   "source": []
  },
  {
   "cell_type": "code",
   "execution_count": 165,
   "metadata": {},
   "outputs": [],
   "source": [
    "#Decision tree\n",
    "clf=tree.DecisionTreeClassifier(criterion='entropy').fit(X_train,y_train)"
   ]
  },
  {
   "cell_type": "code",
   "execution_count": 166,
   "metadata": {},
   "outputs": [],
   "source": [
    "#predict new test cases\n",
    "y_pred=clf.predict(X_test)"
   ]
  },
  {
   "cell_type": "code",
   "execution_count": 167,
   "metadata": {},
   "outputs": [],
   "source": [
    "#remove the target variable\n",
    "md=loan_data.drop(['default'],axis=1)"
   ]
  },
  {
   "cell_type": "code",
   "execution_count": 170,
   "metadata": {},
   "outputs": [],
   "source": [
    "from sklearn.metrics import confusion_matrix\n",
    "Cm=confusion_matrix(y_test,y_pred)"
   ]
  },
  {
   "cell_type": "code",
   "execution_count": 172,
   "metadata": {},
   "outputs": [
    {
     "data": {
      "text/plain": [
       "array([[60, 24],\n",
       "       [15, 10]], dtype=int64)"
      ]
     },
     "execution_count": 172,
     "metadata": {},
     "output_type": "execute_result"
    }
   ],
   "source": [
    "Cm"
   ]
  },
  {
   "cell_type": "code",
   "execution_count": 173,
   "metadata": {},
   "outputs": [
    {
     "data": {
      "text/plain": [
       "64.22018348623854"
      ]
     },
     "execution_count": 173,
     "metadata": {},
     "output_type": "execute_result"
    }
   ],
   "source": [
    "#check accuracy \n",
    "#using build in function\n",
    "accuracy_score(y_test,y_pred)*100"
   ]
  },
  {
   "cell_type": "code",
   "execution_count": 174,
   "metadata": {},
   "outputs": [
    {
     "data": {
      "text/plain": [
       "0.6"
      ]
     },
     "execution_count": 174,
     "metadata": {},
     "output_type": "execute_result"
    }
   ],
   "source": [
    "###FNR\n",
    "15/25"
   ]
  },
  {
   "cell_type": "code",
   "execution_count": null,
   "metadata": {},
   "outputs": [],
   "source": [
    "######################RANDOM FOREST\n"
   ]
  },
  {
   "cell_type": "code",
   "execution_count": 175,
   "metadata": {},
   "outputs": [],
   "source": [
    "from sklearn.ensemble import RandomForestClassifier\n",
    "RF_model=RandomForestClassifier(n_estimators=100).fit(X_train,y_train) #X_train=independent variable y_train=dependent variable"
   ]
  },
  {
   "cell_type": "code",
   "execution_count": 176,
   "metadata": {},
   "outputs": [],
   "source": [
    "RF_predictions=RF_model.predict(X_test)"
   ]
  },
  {
   "cell_type": "code",
   "execution_count": 177,
   "metadata": {},
   "outputs": [],
   "source": [
    "CM=pd.crosstab(y_test,RF_predictions)\n",
    "\n",
    "TN=CM.iloc[0,0]\n",
    "FP=CM.iloc[0,1]\n",
    "FN=CM.iloc[1,0]\n",
    "TP=CM.iloc[1,1]"
   ]
  },
  {
   "cell_type": "code",
   "execution_count": 178,
   "metadata": {},
   "outputs": [],
   "source": [
    "accuracy=(TP+TN)/(TN+FP+FN+TP)"
   ]
  },
  {
   "cell_type": "code",
   "execution_count": 179,
   "metadata": {},
   "outputs": [
    {
     "data": {
      "text/plain": [
       "0.7155963302752294"
      ]
     },
     "execution_count": 179,
     "metadata": {},
     "output_type": "execute_result"
    }
   ],
   "source": [
    "accuracy"
   ]
  },
  {
   "cell_type": "code",
   "execution_count": 181,
   "metadata": {},
   "outputs": [
    {
     "data": {
      "text/plain": [
       "0.72"
      ]
     },
     "execution_count": 181,
     "metadata": {},
     "output_type": "execute_result"
    }
   ],
   "source": [
    "####FNR\n",
    "FN/(FN+TP)"
   ]
  },
  {
   "cell_type": "code",
   "execution_count": null,
   "metadata": {},
   "outputs": [],
   "source": [
    "####ACC=71.55%\n",
    "####FNR=72%"
   ]
  },
  {
   "cell_type": "code",
   "execution_count": null,
   "metadata": {},
   "outputs": [],
   "source": [
    "###for n=500\n"
   ]
  },
  {
   "cell_type": "code",
   "execution_count": 182,
   "metadata": {},
   "outputs": [],
   "source": [
    "RF_model=RandomForestClassifier(n_estimators=500).fit(X_train,y_train) #X_train=independent variable y_train=dependent variable\n",
    "RF_predictions=RF_model.predict(X_test)\n",
    "CM=pd.crosstab(y_test,RF_predictions)\n",
    "\n",
    "TN=CM.iloc[0,0]\n",
    "FP=CM.iloc[0,1]\n",
    "FN=CM.iloc[1,0]\n",
    "TP=CM.iloc[1,1]"
   ]
  },
  {
   "cell_type": "code",
   "execution_count": null,
   "metadata": {},
   "outputs": [],
   "source": []
  },
  {
   "cell_type": "code",
   "execution_count": 183,
   "metadata": {},
   "outputs": [],
   "source": [
    "accuracy=(TP+TN)/(TN+FP+FN+TP)"
   ]
  },
  {
   "cell_type": "code",
   "execution_count": null,
   "metadata": {},
   "outputs": [],
   "source": []
  },
  {
   "cell_type": "code",
   "execution_count": 184,
   "metadata": {},
   "outputs": [
    {
     "data": {
      "text/plain": [
       "0.7614678899082569"
      ]
     },
     "execution_count": 184,
     "metadata": {},
     "output_type": "execute_result"
    }
   ],
   "source": [
    "accuracy"
   ]
  },
  {
   "cell_type": "code",
   "execution_count": 186,
   "metadata": {},
   "outputs": [
    {
     "data": {
      "text/plain": [
       "0.68"
      ]
     },
     "execution_count": 186,
     "metadata": {},
     "output_type": "execute_result"
    }
   ],
   "source": [
    "###FNR FOR n=500\n",
    "FN/(FN+TP)"
   ]
  },
  {
   "cell_type": "code",
   "execution_count": 187,
   "metadata": {},
   "outputs": [
    {
     "data": {
      "text/plain": [
       "0.7522935779816514"
      ]
     },
     "execution_count": 187,
     "metadata": {},
     "output_type": "execute_result"
    }
   ],
   "source": [
    "#for n=700\n",
    "RF_model=RandomForestClassifier(n_estimators=500).fit(X_train,y_train) #X_train=independent variable y_train=dependent variable\n",
    "RF_predictions=RF_model.predict(X_test)\n",
    "CM=pd.crosstab(y_test,RF_predictions)\n",
    "\n",
    "TN=CM.iloc[0,0]\n",
    "FP=CM.iloc[0,1]\n",
    "FN=CM.iloc[1,0]\n",
    "TP=CM.iloc[1,1]\n",
    "accuracy=(TP+TN)/(TN+FP+FN+TP)\n",
    "accuracy"
   ]
  },
  {
   "cell_type": "code",
   "execution_count": null,
   "metadata": {},
   "outputs": [],
   "source": []
  },
  {
   "cell_type": "code",
   "execution_count": null,
   "metadata": {},
   "outputs": [],
   "source": []
  },
  {
   "cell_type": "code",
   "execution_count": null,
   "metadata": {},
   "outputs": [],
   "source": []
  },
  {
   "cell_type": "code",
   "execution_count": null,
   "metadata": {},
   "outputs": [],
   "source": []
  },
  {
   "cell_type": "code",
   "execution_count": null,
   "metadata": {},
   "outputs": [],
   "source": []
  },
  {
   "cell_type": "code",
   "execution_count": null,
   "metadata": {},
   "outputs": [],
   "source": []
  },
  {
   "cell_type": "code",
   "execution_count": null,
   "metadata": {},
   "outputs": [],
   "source": []
  },
  {
   "cell_type": "code",
   "execution_count": null,
   "metadata": {},
   "outputs": [],
   "source": []
  },
  {
   "cell_type": "code",
   "execution_count": null,
   "metadata": {},
   "outputs": [],
   "source": []
  },
  {
   "cell_type": "code",
   "execution_count": null,
   "metadata": {},
   "outputs": [],
   "source": []
  },
  {
   "cell_type": "code",
   "execution_count": null,
   "metadata": {},
   "outputs": [],
   "source": []
  },
  {
   "cell_type": "code",
   "execution_count": null,
   "metadata": {},
   "outputs": [],
   "source": []
  },
  {
   "cell_type": "code",
   "execution_count": null,
   "metadata": {},
   "outputs": [],
   "source": []
  },
  {
   "cell_type": "code",
   "execution_count": null,
   "metadata": {},
   "outputs": [],
   "source": []
  },
  {
   "cell_type": "code",
   "execution_count": null,
   "metadata": {},
   "outputs": [],
   "source": []
  },
  {
   "cell_type": "code",
   "execution_count": null,
   "metadata": {},
   "outputs": [],
   "source": []
  },
  {
   "cell_type": "code",
   "execution_count": null,
   "metadata": {},
   "outputs": [],
   "source": []
  },
  {
   "cell_type": "code",
   "execution_count": null,
   "metadata": {},
   "outputs": [],
   "source": []
  },
  {
   "cell_type": "code",
   "execution_count": null,
   "metadata": {},
   "outputs": [],
   "source": []
  },
  {
   "cell_type": "code",
   "execution_count": null,
   "metadata": {},
   "outputs": [],
   "source": []
  },
  {
   "cell_type": "code",
   "execution_count": null,
   "metadata": {},
   "outputs": [],
   "source": []
  },
  {
   "cell_type": "code",
   "execution_count": null,
   "metadata": {},
   "outputs": [],
   "source": []
  },
  {
   "cell_type": "code",
   "execution_count": null,
   "metadata": {},
   "outputs": [],
   "source": []
  },
  {
   "cell_type": "code",
   "execution_count": null,
   "metadata": {},
   "outputs": [],
   "source": []
  },
  {
   "cell_type": "code",
   "execution_count": null,
   "metadata": {},
   "outputs": [],
   "source": []
  },
  {
   "cell_type": "code",
   "execution_count": null,
   "metadata": {},
   "outputs": [],
   "source": []
  },
  {
   "cell_type": "code",
   "execution_count": null,
   "metadata": {},
   "outputs": [],
   "source": []
  },
  {
   "cell_type": "code",
   "execution_count": null,
   "metadata": {},
   "outputs": [],
   "source": []
  },
  {
   "cell_type": "code",
   "execution_count": null,
   "metadata": {},
   "outputs": [],
   "source": []
  },
  {
   "cell_type": "code",
   "execution_count": null,
   "metadata": {},
   "outputs": [],
   "source": []
  },
  {
   "cell_type": "code",
   "execution_count": null,
   "metadata": {},
   "outputs": [],
   "source": []
  },
  {
   "cell_type": "code",
   "execution_count": null,
   "metadata": {},
   "outputs": [],
   "source": []
  },
  {
   "cell_type": "code",
   "execution_count": 52,
   "metadata": {},
   "outputs": [],
   "source": []
  },
  {
   "cell_type": "code",
   "execution_count": null,
   "metadata": {},
   "outputs": [],
   "source": []
  },
  {
   "cell_type": "code",
   "execution_count": null,
   "metadata": {},
   "outputs": [],
   "source": []
  },
  {
   "cell_type": "code",
   "execution_count": null,
   "metadata": {},
   "outputs": [],
   "source": []
  },
  {
   "cell_type": "code",
   "execution_count": null,
   "metadata": {},
   "outputs": [],
   "source": []
  },
  {
   "cell_type": "code",
   "execution_count": null,
   "metadata": {},
   "outputs": [],
   "source": []
  },
  {
   "cell_type": "code",
   "execution_count": null,
   "metadata": {},
   "outputs": [],
   "source": []
  },
  {
   "cell_type": "code",
   "execution_count": null,
   "metadata": {},
   "outputs": [],
   "source": []
  }
 ],
 "metadata": {
  "kernelspec": {
   "display_name": "Python 3",
   "language": "python",
   "name": "python3"
  },
  "language_info": {
   "codemirror_mode": {
    "name": "ipython",
    "version": 3
   },
   "file_extension": ".py",
   "mimetype": "text/x-python",
   "name": "python",
   "nbconvert_exporter": "python",
   "pygments_lexer": "ipython3",
   "version": "3.7.4"
  }
 },
 "nbformat": 4,
 "nbformat_minor": 2
}
